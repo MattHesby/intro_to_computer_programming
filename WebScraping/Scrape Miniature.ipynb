{
 "cells": [
  {
   "cell_type": "code",
   "execution_count": 1,
   "metadata": {},
   "outputs": [],
   "source": [
    "from bs4 import BeautifulSoup\n",
    "import requests"
   ]
  },
  {
   "cell_type": "code",
   "execution_count": 4,
   "metadata": {},
   "outputs": [],
   "source": [
    "url = 'http://miniature-calendar.com/2017/09/'\n",
    "response = requests.get(url)\n",
    "soup = BeautifulSoup(response.text, \"lxml\")\n"
   ]
  },
  {
   "cell_type": "code",
   "execution_count": 12,
   "metadata": {},
   "outputs": [],
   "source": [
    "body = soup.body"
   ]
  },
  {
   "cell_type": "code",
   "execution_count": 13,
   "metadata": {},
   "outputs": [],
   "source": [
    "table_data = body.find_all('td')"
   ]
  },
  {
   "cell_type": "code",
   "execution_count": 14,
   "metadata": {},
   "outputs": [
    {
     "data": {
      "text/plain": [
       "[<td colspan=\"3\" id=\"prev\"><a href=\"http://miniature-calendar.com/2017/08/\">« Aug</a></td>,\n",
       " <td class=\"pad\"> </td>,\n",
       " <td colspan=\"3\" id=\"next\"><a href=\"http://miniature-calendar.com/2017/10/\">Oct »</a></td>,\n",
       " <td class=\"pad\" colspan=\"4\"> </td>,\n",
       " <td class=\"event \"><span>1</span><br/><a class=\"post miniature-calendar\" href=\"http://miniature-calendar.com/170901/\"><img alt=\"\" class=\"attachment-130x130 size-130x130 wp-post-image\" height=\"130\" sizes=\"(max-width: 130px) 100vw, 130px\" src=\"http://miniature-calendar.com/wp-content/uploads/2017/09/170901fri-250x250.jpg\" srcset=\"http://miniature-calendar.com/wp-content/uploads/2017/09/170901fri-250x250.jpg 250w, http://miniature-calendar.com/wp-content/uploads/2017/09/170901fri-640x640.jpg 640w, http://miniature-calendar.com/wp-content/uploads/2017/09/170901fri-1024x1024.jpg 1024w, http://miniature-calendar.com/wp-content/uploads/2017/09/170901fri.jpg 1500w\" width=\"130\"/></a></td>,\n",
       " <td class=\"event \"><span>2</span><br/><a class=\"post miniature-calendar\" href=\"http://miniature-calendar.com/170902/\"><img alt=\"\" class=\"attachment-130x130 size-130x130 wp-post-image\" height=\"130\" sizes=\"(max-width: 130px) 100vw, 130px\" src=\"http://miniature-calendar.com/wp-content/uploads/2017/09/170902sat-250x250.jpg\" srcset=\"http://miniature-calendar.com/wp-content/uploads/2017/09/170902sat-250x250.jpg 250w, http://miniature-calendar.com/wp-content/uploads/2017/09/170902sat-640x640.jpg 640w, http://miniature-calendar.com/wp-content/uploads/2017/09/170902sat-1024x1024.jpg 1024w, http://miniature-calendar.com/wp-content/uploads/2017/09/170902sat.jpg 1500w\" width=\"130\"/></a></td>,\n",
       " <td class=\"event \"><span>3</span><br/><a class=\"post miniature-calendar\" href=\"http://miniature-calendar.com/170903/\"><img alt=\"\" class=\"attachment-130x130 size-130x130 wp-post-image\" height=\"130\" sizes=\"(max-width: 130px) 100vw, 130px\" src=\"http://miniature-calendar.com/wp-content/uploads/2017/09/170903sun-250x250.jpg\" srcset=\"http://miniature-calendar.com/wp-content/uploads/2017/09/170903sun-250x250.jpg 250w, http://miniature-calendar.com/wp-content/uploads/2017/09/170903sun-640x640.jpg 640w, http://miniature-calendar.com/wp-content/uploads/2017/09/170903sun-1024x1024.jpg 1024w, http://miniature-calendar.com/wp-content/uploads/2017/09/170903sun.jpg 1500w\" width=\"130\"/></a></td>,\n",
       " <td class=\"event \"><span>4</span><br/><a class=\"post miniature-calendar\" href=\"http://miniature-calendar.com/170904/\"><img alt=\"\" class=\"attachment-130x130 size-130x130 wp-post-image\" height=\"130\" sizes=\"(max-width: 130px) 100vw, 130px\" src=\"http://miniature-calendar.com/wp-content/uploads/2017/09/170904mon-250x250.jpg\" srcset=\"http://miniature-calendar.com/wp-content/uploads/2017/09/170904mon-250x250.jpg 250w, http://miniature-calendar.com/wp-content/uploads/2017/09/170904mon-640x640.jpg 640w, http://miniature-calendar.com/wp-content/uploads/2017/09/170904mon-1024x1024.jpg 1024w, http://miniature-calendar.com/wp-content/uploads/2017/09/170904mon.jpg 1500w\" width=\"130\"/></a></td>,\n",
       " <td class=\"event \"><span>5</span><br/><a class=\"post miniature-calendar\" href=\"http://miniature-calendar.com/170905/\"><img alt=\"\" class=\"attachment-130x130 size-130x130 wp-post-image\" height=\"130\" sizes=\"(max-width: 130px) 100vw, 130px\" src=\"http://miniature-calendar.com/wp-content/uploads/2017/09/170905tue1-250x250.jpg\" srcset=\"http://miniature-calendar.com/wp-content/uploads/2017/09/170905tue1-250x250.jpg 250w, http://miniature-calendar.com/wp-content/uploads/2017/09/170905tue1-640x640.jpg 640w, http://miniature-calendar.com/wp-content/uploads/2017/09/170905tue1-1024x1024.jpg 1024w, http://miniature-calendar.com/wp-content/uploads/2017/09/170905tue1.jpg 1500w\" width=\"130\"/></a></td>,\n",
       " <td class=\"event \"><span>6</span><br/><a class=\"post miniature-calendar\" href=\"http://miniature-calendar.com/170906/\"><img alt=\"\" class=\"attachment-130x130 size-130x130 wp-post-image\" height=\"130\" sizes=\"(max-width: 130px) 100vw, 130px\" src=\"http://miniature-calendar.com/wp-content/uploads/2017/09/170906wed1-250x250.jpg\" srcset=\"http://miniature-calendar.com/wp-content/uploads/2017/09/170906wed1-250x250.jpg 250w, http://miniature-calendar.com/wp-content/uploads/2017/09/170906wed1-640x640.jpg 640w, http://miniature-calendar.com/wp-content/uploads/2017/09/170906wed1-1024x1024.jpg 1024w, http://miniature-calendar.com/wp-content/uploads/2017/09/170906wed1.jpg 1500w\" width=\"130\"/></a></td>,\n",
       " <td class=\"event \"><span>7</span><br/><a class=\"post miniature-calendar\" href=\"http://miniature-calendar.com/170907/\"><img alt=\"\" class=\"attachment-130x130 size-130x130 wp-post-image\" height=\"130\" sizes=\"(max-width: 130px) 100vw, 130px\" src=\"http://miniature-calendar.com/wp-content/uploads/2017/09/170907thu-250x250.jpg\" srcset=\"http://miniature-calendar.com/wp-content/uploads/2017/09/170907thu-250x250.jpg 250w, http://miniature-calendar.com/wp-content/uploads/2017/09/170907thu-640x640.jpg 640w, http://miniature-calendar.com/wp-content/uploads/2017/09/170907thu-1024x1024.jpg 1024w, http://miniature-calendar.com/wp-content/uploads/2017/09/170907thu.jpg 1500w\" width=\"130\"/></a></td>,\n",
       " <td class=\"event \"><span>8</span><br/><a class=\"post miniature-calendar\" href=\"http://miniature-calendar.com/170908/\"><img alt=\"\" class=\"attachment-130x130 size-130x130 wp-post-image\" height=\"130\" sizes=\"(max-width: 130px) 100vw, 130px\" src=\"http://miniature-calendar.com/wp-content/uploads/2017/09/170908fri-250x250.jpg\" srcset=\"http://miniature-calendar.com/wp-content/uploads/2017/09/170908fri-250x250.jpg 250w, http://miniature-calendar.com/wp-content/uploads/2017/09/170908fri-640x640.jpg 640w, http://miniature-calendar.com/wp-content/uploads/2017/09/170908fri-1024x1024.jpg 1024w, http://miniature-calendar.com/wp-content/uploads/2017/09/170908fri.jpg 1500w\" width=\"130\"/></a></td>,\n",
       " <td class=\"event \"><span>9</span><br/><a class=\"post miniature-calendar\" href=\"http://miniature-calendar.com/170909/\"><img alt=\"\" class=\"attachment-130x130 size-130x130 wp-post-image\" height=\"130\" sizes=\"(max-width: 130px) 100vw, 130px\" src=\"http://miniature-calendar.com/wp-content/uploads/2017/09/170909sat-250x250.jpg\" srcset=\"http://miniature-calendar.com/wp-content/uploads/2017/09/170909sat-250x250.jpg 250w, http://miniature-calendar.com/wp-content/uploads/2017/09/170909sat-640x640.jpg 640w, http://miniature-calendar.com/wp-content/uploads/2017/09/170909sat-1024x1024.jpg 1024w, http://miniature-calendar.com/wp-content/uploads/2017/09/170909sat.jpg 1500w\" width=\"130\"/></a></td>,\n",
       " <td class=\"event \"><span>10</span><br/><a class=\"post miniature-calendar\" href=\"http://miniature-calendar.com/170910/\"><img alt=\"\" class=\"attachment-130x130 size-130x130 wp-post-image\" height=\"130\" sizes=\"(max-width: 130px) 100vw, 130px\" src=\"http://miniature-calendar.com/wp-content/uploads/2017/09/170910sun-250x250.jpg\" srcset=\"http://miniature-calendar.com/wp-content/uploads/2017/09/170910sun-250x250.jpg 250w, http://miniature-calendar.com/wp-content/uploads/2017/09/170910sun-640x640.jpg 640w, http://miniature-calendar.com/wp-content/uploads/2017/09/170910sun-1024x1024.jpg 1024w, http://miniature-calendar.com/wp-content/uploads/2017/09/170910sun.jpg 1500w\" width=\"130\"/></a></td>,\n",
       " <td class=\"event \"><span>11</span><br/><a class=\"post miniature-calendar\" href=\"http://miniature-calendar.com/170911/\"><img alt=\"\" class=\"attachment-130x130 size-130x130 wp-post-image\" height=\"130\" sizes=\"(max-width: 130px) 100vw, 130px\" src=\"http://miniature-calendar.com/wp-content/uploads/2017/09/170911mon1-250x250.jpg\" srcset=\"http://miniature-calendar.com/wp-content/uploads/2017/09/170911mon1-250x250.jpg 250w, http://miniature-calendar.com/wp-content/uploads/2017/09/170911mon1-640x640.jpg 640w, http://miniature-calendar.com/wp-content/uploads/2017/09/170911mon1-1024x1024.jpg 1024w, http://miniature-calendar.com/wp-content/uploads/2017/09/170911mon1.jpg 1500w\" width=\"130\"/></a></td>,\n",
       " <td class=\"event \"><span>12</span><br/><a class=\"post miniature-calendar\" href=\"http://miniature-calendar.com/170912/\"><img alt=\"\" class=\"attachment-130x130 size-130x130 wp-post-image\" height=\"130\" sizes=\"(max-width: 130px) 100vw, 130px\" src=\"http://miniature-calendar.com/wp-content/uploads/2017/09/170912tue-250x250.jpg\" srcset=\"http://miniature-calendar.com/wp-content/uploads/2017/09/170912tue-250x250.jpg 250w, http://miniature-calendar.com/wp-content/uploads/2017/09/170912tue-640x640.jpg 640w, http://miniature-calendar.com/wp-content/uploads/2017/09/170912tue-1024x1024.jpg 1024w, http://miniature-calendar.com/wp-content/uploads/2017/09/170912tue.jpg 1500w\" width=\"130\"/></a></td>,\n",
       " <td class=\"event \"><span>13</span><br/><a class=\"post miniature-calendar\" href=\"http://miniature-calendar.com/170913/\"><img alt=\"\" class=\"attachment-130x130 size-130x130 wp-post-image\" height=\"130\" sizes=\"(max-width: 130px) 100vw, 130px\" src=\"http://miniature-calendar.com/wp-content/uploads/2017/09/170913wed-250x250.jpg\" srcset=\"http://miniature-calendar.com/wp-content/uploads/2017/09/170913wed-250x250.jpg 250w, http://miniature-calendar.com/wp-content/uploads/2017/09/170913wed-640x640.jpg 640w, http://miniature-calendar.com/wp-content/uploads/2017/09/170913wed-1024x1024.jpg 1024w, http://miniature-calendar.com/wp-content/uploads/2017/09/170913wed.jpg 1500w\" width=\"130\"/></a></td>,\n",
       " <td class=\"event \"><span>14</span><br/><a class=\"post miniature-calendar\" href=\"http://miniature-calendar.com/170914/\"><img alt=\"\" class=\"attachment-130x130 size-130x130 wp-post-image\" height=\"130\" sizes=\"(max-width: 130px) 100vw, 130px\" src=\"http://miniature-calendar.com/wp-content/uploads/2017/09/170914thu-250x250.jpg\" srcset=\"http://miniature-calendar.com/wp-content/uploads/2017/09/170914thu-250x250.jpg 250w, http://miniature-calendar.com/wp-content/uploads/2017/09/170914thu-640x640.jpg 640w, http://miniature-calendar.com/wp-content/uploads/2017/09/170914thu-1024x1024.jpg 1024w, http://miniature-calendar.com/wp-content/uploads/2017/09/170914thu.jpg 1500w\" width=\"130\"/></a></td>,\n",
       " <td class=\"event \"><span>15</span><br/><a class=\"post miniature-calendar\" href=\"http://miniature-calendar.com/170915/\"><img alt=\"\" class=\"attachment-130x130 size-130x130 wp-post-image\" height=\"130\" sizes=\"(max-width: 130px) 100vw, 130px\" src=\"http://miniature-calendar.com/wp-content/uploads/2017/09/170915fri-250x250.jpg\" srcset=\"http://miniature-calendar.com/wp-content/uploads/2017/09/170915fri-250x250.jpg 250w, http://miniature-calendar.com/wp-content/uploads/2017/09/170915fri-640x640.jpg 640w, http://miniature-calendar.com/wp-content/uploads/2017/09/170915fri-1024x1024.jpg 1024w, http://miniature-calendar.com/wp-content/uploads/2017/09/170915fri.jpg 1500w\" width=\"130\"/></a></td>,\n",
       " <td class=\"event \"><span>16</span><br/><a class=\"post miniature-calendar\" href=\"http://miniature-calendar.com/170916/\"><img alt=\"\" class=\"attachment-130x130 size-130x130 wp-post-image\" height=\"130\" sizes=\"(max-width: 130px) 100vw, 130px\" src=\"http://miniature-calendar.com/wp-content/uploads/2017/09/170916sat-250x250.jpg\" srcset=\"http://miniature-calendar.com/wp-content/uploads/2017/09/170916sat-250x250.jpg 250w, http://miniature-calendar.com/wp-content/uploads/2017/09/170916sat-640x640.jpg 640w, http://miniature-calendar.com/wp-content/uploads/2017/09/170916sat-1024x1024.jpg 1024w, http://miniature-calendar.com/wp-content/uploads/2017/09/170916sat.jpg 1500w\" width=\"130\"/></a></td>,\n",
       " <td class=\"event \"><span>17</span><br/><a class=\"post miniature-calendar\" href=\"http://miniature-calendar.com/170917/\"><img alt=\"\" class=\"attachment-130x130 size-130x130 wp-post-image\" height=\"130\" sizes=\"(max-width: 130px) 100vw, 130px\" src=\"http://miniature-calendar.com/wp-content/uploads/2017/09/170917sun1-250x250.jpg\" srcset=\"http://miniature-calendar.com/wp-content/uploads/2017/09/170917sun1-250x250.jpg 250w, http://miniature-calendar.com/wp-content/uploads/2017/09/170917sun1-640x640.jpg 640w, http://miniature-calendar.com/wp-content/uploads/2017/09/170917sun1-1024x1024.jpg 1024w, http://miniature-calendar.com/wp-content/uploads/2017/09/170917sun1.jpg 1500w\" width=\"130\"/></a></td>,\n",
       " <td class=\"event \"><span>18</span><br/><a class=\"post miniature-calendar\" href=\"http://miniature-calendar.com/170918/\"><img alt=\"\" class=\"attachment-130x130 size-130x130 wp-post-image\" height=\"130\" sizes=\"(max-width: 130px) 100vw, 130px\" src=\"http://miniature-calendar.com/wp-content/uploads/2017/09/170918mon-250x250.jpg\" srcset=\"http://miniature-calendar.com/wp-content/uploads/2017/09/170918mon-250x250.jpg 250w, http://miniature-calendar.com/wp-content/uploads/2017/09/170918mon-640x640.jpg 640w, http://miniature-calendar.com/wp-content/uploads/2017/09/170918mon-1024x1024.jpg 1024w, http://miniature-calendar.com/wp-content/uploads/2017/09/170918mon.jpg 1500w\" width=\"130\"/></a></td>,\n",
       " <td class=\"event \"><span>19</span><br/><a class=\"post miniature-calendar\" href=\"http://miniature-calendar.com/170919/\"><img alt=\"\" class=\"attachment-130x130 size-130x130 wp-post-image\" height=\"130\" sizes=\"(max-width: 130px) 100vw, 130px\" src=\"http://miniature-calendar.com/wp-content/uploads/2017/09/170919tue-250x250.jpg\" srcset=\"http://miniature-calendar.com/wp-content/uploads/2017/09/170919tue-250x250.jpg 250w, http://miniature-calendar.com/wp-content/uploads/2017/09/170919tue-640x640.jpg 640w, http://miniature-calendar.com/wp-content/uploads/2017/09/170919tue-1024x1024.jpg 1024w, http://miniature-calendar.com/wp-content/uploads/2017/09/170919tue.jpg 1500w\" width=\"130\"/></a></td>,\n",
       " <td class=\"event \"><span>20</span><br/><a class=\"post miniature-calendar\" href=\"http://miniature-calendar.com/170920/\"><img alt=\"\" class=\"attachment-130x130 size-130x130 wp-post-image\" height=\"130\" sizes=\"(max-width: 130px) 100vw, 130px\" src=\"http://miniature-calendar.com/wp-content/uploads/2017/09/170920wed-250x250.jpg\" srcset=\"http://miniature-calendar.com/wp-content/uploads/2017/09/170920wed-250x250.jpg 250w, http://miniature-calendar.com/wp-content/uploads/2017/09/170920wed-640x640.jpg 640w, http://miniature-calendar.com/wp-content/uploads/2017/09/170920wed-1024x1024.jpg 1024w, http://miniature-calendar.com/wp-content/uploads/2017/09/170920wed.jpg 1500w\" width=\"130\"/></a></td>,\n",
       " <td class=\"event \"><span>21</span><br/><a class=\"post miniature-calendar\" href=\"http://miniature-calendar.com/170921/\"><img alt=\"\" class=\"attachment-130x130 size-130x130 wp-post-image\" height=\"130\" sizes=\"(max-width: 130px) 100vw, 130px\" src=\"http://miniature-calendar.com/wp-content/uploads/2017/09/170921thu-250x250.jpg\" srcset=\"http://miniature-calendar.com/wp-content/uploads/2017/09/170921thu-250x250.jpg 250w, http://miniature-calendar.com/wp-content/uploads/2017/09/170921thu-640x640.jpg 640w, http://miniature-calendar.com/wp-content/uploads/2017/09/170921thu-1024x1024.jpg 1024w, http://miniature-calendar.com/wp-content/uploads/2017/09/170921thu.jpg 1500w\" width=\"130\"/></a></td>,\n",
       " <td class=\"event \"><span>22</span><br/><a class=\"post miniature-calendar\" href=\"http://miniature-calendar.com/170922/\"><img alt=\"\" class=\"attachment-130x130 size-130x130 wp-post-image\" height=\"130\" sizes=\"(max-width: 130px) 100vw, 130px\" src=\"http://miniature-calendar.com/wp-content/uploads/2017/09/170922fri1-250x250.jpg\" srcset=\"http://miniature-calendar.com/wp-content/uploads/2017/09/170922fri1-250x250.jpg 250w, http://miniature-calendar.com/wp-content/uploads/2017/09/170922fri1-640x640.jpg 640w, http://miniature-calendar.com/wp-content/uploads/2017/09/170922fri1-1024x1024.jpg 1024w, http://miniature-calendar.com/wp-content/uploads/2017/09/170922fri1.jpg 1500w\" width=\"130\"/></a></td>,\n",
       " <td class=\"event \"><span>23</span><br/><a class=\"post miniature-calendar\" href=\"http://miniature-calendar.com/170923/\"><img alt=\"\" class=\"attachment-130x130 size-130x130 wp-post-image\" height=\"130\" sizes=\"(max-width: 130px) 100vw, 130px\" src=\"http://miniature-calendar.com/wp-content/uploads/2017/09/170923sat-250x250.jpg\" srcset=\"http://miniature-calendar.com/wp-content/uploads/2017/09/170923sat-250x250.jpg 250w, http://miniature-calendar.com/wp-content/uploads/2017/09/170923sat-640x640.jpg 640w, http://miniature-calendar.com/wp-content/uploads/2017/09/170923sat-1024x1024.jpg 1024w, http://miniature-calendar.com/wp-content/uploads/2017/09/170923sat.jpg 1500w\" width=\"130\"/></a></td>,\n",
       " <td class=\"event \"><span>24</span><br/><a class=\"post miniature-calendar\" href=\"http://miniature-calendar.com/170924/\"><img alt=\"\" class=\"attachment-130x130 size-130x130 wp-post-image\" height=\"130\" sizes=\"(max-width: 130px) 100vw, 130px\" src=\"http://miniature-calendar.com/wp-content/uploads/2017/09/170924sun-250x250.jpg\" srcset=\"http://miniature-calendar.com/wp-content/uploads/2017/09/170924sun-250x250.jpg 250w, http://miniature-calendar.com/wp-content/uploads/2017/09/170924sun-640x640.jpg 640w, http://miniature-calendar.com/wp-content/uploads/2017/09/170924sun-1024x1024.jpg 1024w, http://miniature-calendar.com/wp-content/uploads/2017/09/170924sun.jpg 1500w\" width=\"130\"/></a></td>,\n",
       " <td class=\"event \"><span>25</span><br/><a class=\"post miniature-calendar\" href=\"http://miniature-calendar.com/170925/\"><img alt=\"\" class=\"attachment-130x130 size-130x130 wp-post-image\" height=\"130\" sizes=\"(max-width: 130px) 100vw, 130px\" src=\"http://miniature-calendar.com/wp-content/uploads/2017/09/170925mon-250x250.jpg\" srcset=\"http://miniature-calendar.com/wp-content/uploads/2017/09/170925mon-250x250.jpg 250w, http://miniature-calendar.com/wp-content/uploads/2017/09/170925mon-640x640.jpg 640w, http://miniature-calendar.com/wp-content/uploads/2017/09/170925mon-1024x1024.jpg 1024w, http://miniature-calendar.com/wp-content/uploads/2017/09/170925mon.jpg 1500w\" width=\"130\"/></a></td>,\n",
       " <td class=\"event \"><span>26</span><br/><a class=\"post miniature-calendar\" href=\"http://miniature-calendar.com/170926/\"><img alt=\"\" class=\"attachment-130x130 size-130x130 wp-post-image\" height=\"130\" sizes=\"(max-width: 130px) 100vw, 130px\" src=\"http://miniature-calendar.com/wp-content/uploads/2017/09/170926tue-250x250.jpg\" srcset=\"http://miniature-calendar.com/wp-content/uploads/2017/09/170926tue-250x250.jpg 250w, http://miniature-calendar.com/wp-content/uploads/2017/09/170926tue-640x640.jpg 640w, http://miniature-calendar.com/wp-content/uploads/2017/09/170926tue-1024x1024.jpg 1024w, http://miniature-calendar.com/wp-content/uploads/2017/09/170926tue.jpg 1500w\" width=\"130\"/></a></td>,\n",
       " <td class=\"event \"><span>27</span><br/><a class=\"post miniature-calendar\" href=\"http://miniature-calendar.com/170927/\"><img alt=\"\" class=\"attachment-130x130 size-130x130 wp-post-image\" height=\"130\" sizes=\"(max-width: 130px) 100vw, 130px\" src=\"http://miniature-calendar.com/wp-content/uploads/2017/09/170927wed1-250x250.jpg\" srcset=\"http://miniature-calendar.com/wp-content/uploads/2017/09/170927wed1-250x250.jpg 250w, http://miniature-calendar.com/wp-content/uploads/2017/09/170927wed1-640x640.jpg 640w, http://miniature-calendar.com/wp-content/uploads/2017/09/170927wed1-1024x1024.jpg 1024w, http://miniature-calendar.com/wp-content/uploads/2017/09/170927wed1.jpg 1500w\" width=\"130\"/></a></td>,\n",
       " <td class=\"event \"><span>28</span><br/><a class=\"post miniature-calendar\" href=\"http://miniature-calendar.com/170928/\"><img alt=\"\" class=\"attachment-130x130 size-130x130 wp-post-image\" height=\"130\" sizes=\"(max-width: 130px) 100vw, 130px\" src=\"http://miniature-calendar.com/wp-content/uploads/2017/09/170928thu-250x250.jpg\" srcset=\"http://miniature-calendar.com/wp-content/uploads/2017/09/170928thu-250x250.jpg 250w, http://miniature-calendar.com/wp-content/uploads/2017/09/170928thu-640x640.jpg 640w, http://miniature-calendar.com/wp-content/uploads/2017/09/170928thu-1024x1024.jpg 1024w, http://miniature-calendar.com/wp-content/uploads/2017/09/170928thu.jpg 1500w\" width=\"130\"/></a></td>,\n",
       " <td class=\"event \"><span>29</span><br/><a class=\"post miniature-calendar\" href=\"http://miniature-calendar.com/170929/\"><img alt=\"\" class=\"attachment-130x130 size-130x130 wp-post-image\" height=\"130\" sizes=\"(max-width: 130px) 100vw, 130px\" src=\"http://miniature-calendar.com/wp-content/uploads/2017/09/170929fri1-250x250.jpg\" srcset=\"http://miniature-calendar.com/wp-content/uploads/2017/09/170929fri1-250x250.jpg 250w, http://miniature-calendar.com/wp-content/uploads/2017/09/170929fri1-640x640.jpg 640w, http://miniature-calendar.com/wp-content/uploads/2017/09/170929fri1-1024x1024.jpg 1024w, http://miniature-calendar.com/wp-content/uploads/2017/09/170929fri1.jpg 1500w\" width=\"130\"/></a></td>,\n",
       " <td class=\"event \"><span>30</span><br/><a class=\"post miniature-calendar\" href=\"http://miniature-calendar.com/170930/\"><img alt=\"\" class=\"attachment-130x130 size-130x130 wp-post-image\" height=\"130\" sizes=\"(max-width: 130px) 100vw, 130px\" src=\"http://miniature-calendar.com/wp-content/uploads/2017/09/170930sat1-250x250.jpg\" srcset=\"http://miniature-calendar.com/wp-content/uploads/2017/09/170930sat1-250x250.jpg 250w, http://miniature-calendar.com/wp-content/uploads/2017/09/170930sat1-640x640.jpg 640w, http://miniature-calendar.com/wp-content/uploads/2017/09/170930sat1-1024x1024.jpg 1024w, http://miniature-calendar.com/wp-content/uploads/2017/09/170930sat1.jpg 1500w\" width=\"130\"/></a></td>,\n",
       " <td class=\"pad\" colspan=\"1\"> </td>]"
      ]
     },
     "execution_count": 14,
     "metadata": {},
     "output_type": "execute_result"
    }
   ],
   "source": [
    "table_data"
   ]
  },
  {
   "cell_type": "code",
   "execution_count": 15,
   "metadata": {},
   "outputs": [],
   "source": [
    "links = []\n",
    "for tag in table_data:\n",
    "    if tag.img:\n",
    "       links.append(tag.img['src'])"
   ]
  },
  {
   "cell_type": "code",
   "execution_count": 16,
   "metadata": {},
   "outputs": [
    {
     "data": {
      "text/plain": [
       "['http://miniature-calendar.com/wp-content/uploads/2017/09/170901fri-250x250.jpg',\n",
       " 'http://miniature-calendar.com/wp-content/uploads/2017/09/170902sat-250x250.jpg',\n",
       " 'http://miniature-calendar.com/wp-content/uploads/2017/09/170903sun-250x250.jpg',\n",
       " 'http://miniature-calendar.com/wp-content/uploads/2017/09/170904mon-250x250.jpg',\n",
       " 'http://miniature-calendar.com/wp-content/uploads/2017/09/170905tue1-250x250.jpg',\n",
       " 'http://miniature-calendar.com/wp-content/uploads/2017/09/170906wed1-250x250.jpg',\n",
       " 'http://miniature-calendar.com/wp-content/uploads/2017/09/170907thu-250x250.jpg',\n",
       " 'http://miniature-calendar.com/wp-content/uploads/2017/09/170908fri-250x250.jpg',\n",
       " 'http://miniature-calendar.com/wp-content/uploads/2017/09/170909sat-250x250.jpg',\n",
       " 'http://miniature-calendar.com/wp-content/uploads/2017/09/170910sun-250x250.jpg',\n",
       " 'http://miniature-calendar.com/wp-content/uploads/2017/09/170911mon1-250x250.jpg',\n",
       " 'http://miniature-calendar.com/wp-content/uploads/2017/09/170912tue-250x250.jpg',\n",
       " 'http://miniature-calendar.com/wp-content/uploads/2017/09/170913wed-250x250.jpg',\n",
       " 'http://miniature-calendar.com/wp-content/uploads/2017/09/170914thu-250x250.jpg',\n",
       " 'http://miniature-calendar.com/wp-content/uploads/2017/09/170915fri-250x250.jpg',\n",
       " 'http://miniature-calendar.com/wp-content/uploads/2017/09/170916sat-250x250.jpg',\n",
       " 'http://miniature-calendar.com/wp-content/uploads/2017/09/170917sun1-250x250.jpg',\n",
       " 'http://miniature-calendar.com/wp-content/uploads/2017/09/170918mon-250x250.jpg',\n",
       " 'http://miniature-calendar.com/wp-content/uploads/2017/09/170919tue-250x250.jpg',\n",
       " 'http://miniature-calendar.com/wp-content/uploads/2017/09/170920wed-250x250.jpg',\n",
       " 'http://miniature-calendar.com/wp-content/uploads/2017/09/170921thu-250x250.jpg',\n",
       " 'http://miniature-calendar.com/wp-content/uploads/2017/09/170922fri1-250x250.jpg',\n",
       " 'http://miniature-calendar.com/wp-content/uploads/2017/09/170923sat-250x250.jpg',\n",
       " 'http://miniature-calendar.com/wp-content/uploads/2017/09/170924sun-250x250.jpg',\n",
       " 'http://miniature-calendar.com/wp-content/uploads/2017/09/170925mon-250x250.jpg',\n",
       " 'http://miniature-calendar.com/wp-content/uploads/2017/09/170926tue-250x250.jpg',\n",
       " 'http://miniature-calendar.com/wp-content/uploads/2017/09/170927wed1-250x250.jpg',\n",
       " 'http://miniature-calendar.com/wp-content/uploads/2017/09/170928thu-250x250.jpg',\n",
       " 'http://miniature-calendar.com/wp-content/uploads/2017/09/170929fri1-250x250.jpg',\n",
       " 'http://miniature-calendar.com/wp-content/uploads/2017/09/170930sat1-250x250.jpg']"
      ]
     },
     "execution_count": 16,
     "metadata": {},
     "output_type": "execute_result"
    }
   ],
   "source": [
    "links"
   ]
  },
  {
   "cell_type": "code",
   "execution_count": 21,
   "metadata": {
    "collapsed": true
   },
   "outputs": [],
   "source": [
    "import urllib.request"
   ]
  },
  {
   "cell_type": "code",
   "execution_count": 23,
   "metadata": {},
   "outputs": [
    {
     "data": {
      "text/plain": [
       "('/Users/cshan/Desktop/test.jpg', <http.client.HTTPMessage at 0x107b06240>)"
      ]
     },
     "execution_count": 23,
     "metadata": {},
     "output_type": "execute_result"
    }
   ],
   "source": [
    "urllib.request.urlretrieve(links[0], \"/Users/cshan/Desktop/test.jpg\")"
   ]
  },
  {
   "cell_type": "code",
   "execution_count": 24,
   "metadata": {
    "collapsed": true
   },
   "outputs": [],
   "source": [
    "urllib.request.urlretrieve?"
   ]
  },
  {
   "cell_type": "code",
   "execution_count": null,
   "metadata": {
    "collapsed": true
   },
   "outputs": [],
   "source": []
  }
 ],
 "metadata": {
  "kernelspec": {
   "display_name": "Python 3",
   "language": "python",
   "name": "python3"
  },
  "language_info": {
   "codemirror_mode": {
    "name": "ipython",
    "version": 3
   },
   "file_extension": ".py",
   "mimetype": "text/x-python",
   "name": "python",
   "nbconvert_exporter": "python",
   "pygments_lexer": "ipython3",
   "version": "3.5.2"
  }
 },
 "nbformat": 4,
 "nbformat_minor": 2
}
