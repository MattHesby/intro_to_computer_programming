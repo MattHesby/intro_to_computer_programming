{
 "cells": [
  {
   "cell_type": "code",
   "execution_count": 1,
   "metadata": {
    "collapsed": true
   },
   "outputs": [],
   "source": [
    "from bs4 import BeautifulSoup\n",
    "import requests"
   ]
  },
  {
   "cell_type": "code",
   "execution_count": 2,
   "metadata": {},
   "outputs": [
    {
     "name": "stderr",
     "output_type": "stream",
     "text": [
      "/Library/Frameworks/Python.framework/Versions/3.5/lib/python3.5/site-packages/bs4/__init__.py:181: UserWarning: No parser was explicitly specified, so I'm using the best available HTML parser for this system (\"html5lib\"). This usually isn't a problem, but if you run this code on another system, or in a different virtual environment, it may use a different parser and behave differently.\n",
      "\n",
      "The code that caused this warning is on line 184 of the file /Library/Frameworks/Python.framework/Versions/3.5/lib/python3.5/runpy.py. To get rid of this warning, change code that looks like this:\n",
      "\n",
      " BeautifulSoup([your markup])\n",
      "\n",
      "to this:\n",
      "\n",
      " BeautifulSoup([your markup], \"html5lib\")\n",
      "\n",
      "  markup_type=markup_type))\n"
     ]
    }
   ],
   "source": [
    "url = 'http://miniature-calendar.com/2017/09/'\n",
    "response = requests.get(url)\n",
    "soup = BeautifulSoup(response.text)\n"
   ]
  },
  {
   "cell_type": "code",
   "execution_count": 6,
   "metadata": {
    "collapsed": true
   },
   "outputs": [],
   "source": [
    "body = soup.body"
   ]
  },
  {
   "cell_type": "code",
   "execution_count": 8,
   "metadata": {},
   "outputs": [],
   "source": [
    "table_data = body.find_all('td')"
   ]
  },
  {
   "cell_type": "code",
   "execution_count": 19,
   "metadata": {},
   "outputs": [],
   "source": [
    "links = []\n",
    "for tag in table_data:\n",
    "    if tag.img:\n",
    "       links.append(tag.img['src'])"
   ]
  },
  {
   "cell_type": "code",
   "execution_count": 20,
   "metadata": {},
   "outputs": [
    {
     "data": {
      "text/plain": [
       "['http://miniature-calendar.com/wp-content/uploads/2017/09/170901fri-250x250.jpg',\n",
       " 'http://miniature-calendar.com/wp-content/uploads/2017/09/170902sat-250x250.jpg',\n",
       " 'http://miniature-calendar.com/wp-content/uploads/2017/09/170903sun-250x250.jpg',\n",
       " 'http://miniature-calendar.com/wp-content/uploads/2017/09/170904mon-250x250.jpg',\n",
       " 'http://miniature-calendar.com/wp-content/uploads/2017/09/170905tue1-250x250.jpg',\n",
       " 'http://miniature-calendar.com/wp-content/uploads/2017/09/170906wed1-250x250.jpg',\n",
       " 'http://miniature-calendar.com/wp-content/uploads/2017/09/170907thu-250x250.jpg',\n",
       " 'http://miniature-calendar.com/wp-content/uploads/2017/09/170908fri-250x250.jpg',\n",
       " 'http://miniature-calendar.com/wp-content/uploads/2017/09/170909sat-250x250.jpg',\n",
       " 'http://miniature-calendar.com/wp-content/uploads/2017/09/170910sun-250x250.jpg',\n",
       " 'http://miniature-calendar.com/wp-content/uploads/2017/09/170911mon1-250x250.jpg',\n",
       " 'http://miniature-calendar.com/wp-content/uploads/2017/09/170912tue-250x250.jpg',\n",
       " 'http://miniature-calendar.com/wp-content/uploads/2017/09/170913wed-250x250.jpg',\n",
       " 'http://miniature-calendar.com/wp-content/uploads/2017/09/170914thu-250x250.jpg',\n",
       " 'http://miniature-calendar.com/wp-content/uploads/2017/09/170915fri-250x250.jpg',\n",
       " 'http://miniature-calendar.com/wp-content/uploads/2017/09/170916sat-250x250.jpg',\n",
       " 'http://miniature-calendar.com/wp-content/uploads/2017/09/170917sun1-250x250.jpg',\n",
       " 'http://miniature-calendar.com/wp-content/uploads/2017/09/170918mon-250x250.jpg',\n",
       " 'http://miniature-calendar.com/wp-content/uploads/2017/09/170919tue-250x250.jpg',\n",
       " 'http://miniature-calendar.com/wp-content/uploads/2017/09/170920wed-250x250.jpg',\n",
       " 'http://miniature-calendar.com/wp-content/uploads/2017/09/170921thu-250x250.jpg',\n",
       " 'http://miniature-calendar.com/wp-content/uploads/2017/09/170922fri1-250x250.jpg',\n",
       " 'http://miniature-calendar.com/wp-content/uploads/2017/09/170923sat-250x250.jpg',\n",
       " 'http://miniature-calendar.com/wp-content/uploads/2017/09/170924sun-250x250.jpg',\n",
       " 'http://miniature-calendar.com/wp-content/uploads/2017/09/170925mon-250x250.jpg',\n",
       " 'http://miniature-calendar.com/wp-content/uploads/2017/09/170926tue-250x250.jpg',\n",
       " 'http://miniature-calendar.com/wp-content/uploads/2017/09/170927wed1-250x250.jpg',\n",
       " 'http://miniature-calendar.com/wp-content/uploads/2017/09/170928thu-250x250.jpg',\n",
       " 'http://miniature-calendar.com/wp-content/uploads/2017/09/170929fri1-250x250.jpg',\n",
       " 'http://miniature-calendar.com/wp-content/uploads/2017/09/170930sat1-250x250.jpg']"
      ]
     },
     "execution_count": 20,
     "metadata": {},
     "output_type": "execute_result"
    }
   ],
   "source": [
    "links"
   ]
  },
  {
   "cell_type": "code",
   "execution_count": 21,
   "metadata": {
    "collapsed": true
   },
   "outputs": [],
   "source": [
    "import urllib.request"
   ]
  },
  {
   "cell_type": "code",
   "execution_count": 23,
   "metadata": {},
   "outputs": [
    {
     "data": {
      "text/plain": [
       "('/Users/cshan/Desktop/test.jpg', <http.client.HTTPMessage at 0x107b06240>)"
      ]
     },
     "execution_count": 23,
     "metadata": {},
     "output_type": "execute_result"
    }
   ],
   "source": [
    "urllib.request.urlretrieve(links[0], \"/Users/cshan/Desktop/test.jpg\")"
   ]
  },
  {
   "cell_type": "code",
   "execution_count": 24,
   "metadata": {
    "collapsed": true
   },
   "outputs": [],
   "source": [
    "urllib.request.urlretrieve?"
   ]
  },
  {
   "cell_type": "code",
   "execution_count": null,
   "metadata": {
    "collapsed": true
   },
   "outputs": [],
   "source": []
  }
 ],
 "metadata": {
  "kernelspec": {
   "display_name": "Python 3",
   "language": "python",
   "name": "python3"
  },
  "language_info": {
   "codemirror_mode": {
    "name": "ipython",
    "version": 3
   },
   "file_extension": ".py",
   "mimetype": "text/x-python",
   "name": "python",
   "nbconvert_exporter": "python",
   "pygments_lexer": "ipython3",
   "version": "3.5.2"
  }
 },
 "nbformat": 4,
 "nbformat_minor": 2
}
