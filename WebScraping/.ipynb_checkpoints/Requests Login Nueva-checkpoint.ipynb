{
 "cells": [
  {
   "cell_type": "code",
   "execution_count": 1,
   "metadata": {},
   "outputs": [],
   "source": [
    "import requests\n",
    "import lxml.html\n",
    "from bs4 import BeautifulSoup"
   ]
  },
  {
   "cell_type": "code",
   "execution_count": 3,
   "metadata": {},
   "outputs": [],
   "source": [
    "url = 'https://my.nuevaschool.org/signin.php'\n",
    "username = 'cshan'\n",
    "password = open('./password.txt').read().strip()"
   ]
  },
  {
   "cell_type": "code",
   "execution_count": 4,
   "metadata": {},
   "outputs": [],
   "source": [
    "login_url = url"
   ]
  },
  {
   "cell_type": "code",
   "execution_count": 5,
   "metadata": {},
   "outputs": [],
   "source": [
    "s = requests.Session()\n",
    "login = s.get(login_url)\n",
    "login_html = lxml.html.fromstring(login.text)\n",
    "hidden_inputs = login_html.xpath(r'//form//input[@type=\"hidden\"]')\n",
    "form = {x.attrib[\"name\"]: x.attrib[\"value\"] for x in hidden_inputs}"
   ]
  },
  {
   "cell_type": "code",
   "execution_count": 6,
   "metadata": {},
   "outputs": [
    {
     "data": {
      "text/plain": [
       "{'signin': 'Sign In'}"
      ]
     },
     "execution_count": 6,
     "metadata": {},
     "output_type": "execute_result"
    }
   ],
   "source": [
    "form"
   ]
  },
  {
   "cell_type": "code",
   "execution_count": 7,
   "metadata": {},
   "outputs": [],
   "source": [
    "form['signin_acct'] = username\n",
    "form['signin_pw'] = password"
   ]
  },
  {
   "cell_type": "code",
   "execution_count": 8,
   "metadata": {},
   "outputs": [
    {
     "data": {
      "text/plain": [
       "{'signin': 'Sign In', 'signin_acct': 'cshan', 'signin_pw': '4Brothers'}"
      ]
     },
     "execution_count": 8,
     "metadata": {},
     "output_type": "execute_result"
    }
   ],
   "source": [
    "form"
   ]
  },
  {
   "cell_type": "code",
   "execution_count": 9,
   "metadata": {},
   "outputs": [],
   "source": [
    "response = s.post(login_url, data=form)"
   ]
  },
  {
   "cell_type": "code",
   "execution_count": 10,
   "metadata": {},
   "outputs": [
    {
     "data": {
      "text/plain": [
       "'https://my.nuevaschool.org/login.php'"
      ]
     },
     "execution_count": 10,
     "metadata": {},
     "output_type": "execute_result"
    }
   ],
   "source": [
    "response.url"
   ]
  },
  {
   "cell_type": "code",
   "execution_count": 11,
   "metadata": {},
   "outputs": [
    {
     "data": {
      "text/plain": [
       "True"
      ]
     },
     "execution_count": 11,
     "metadata": {},
     "output_type": "execute_result"
    }
   ],
   "source": [
    "response.ok"
   ]
  },
  {
   "cell_type": "code",
   "execution_count": 20,
   "metadata": {},
   "outputs": [
    {
     "data": {
      "text/plain": [
       "{'Transfer-Encoding': 'chunked', 'Date': 'Wed, 01 Nov 2017 23:11:39 GMT', 'Expires': 'Thu, 19 Nov 1981 08:52:00 GMT', 'Content-Type': 'text/html', 'Cache-Control': 'no-store, no-cache, must-revalidate, post-check=0, pre-check=0', 'Server': 'Apache', 'Connection': 'Keep-Alive', 'Pragma': 'no-cache', 'Keep-Alive': 'timeout=15, max=100'}"
      ]
     },
     "execution_count": 20,
     "metadata": {},
     "output_type": "execute_result"
    }
   ],
   "source": [
    "response.headers"
   ]
  },
  {
   "cell_type": "code",
   "execution_count": 13,
   "metadata": {},
   "outputs": [],
   "source": [
    "soup = BeautifulSoup(response.text, 'html5lib')"
   ]
  },
  {
   "cell_type": "code",
   "execution_count": 16,
   "metadata": {},
   "outputs": [
    {
     "data": {
      "text/plain": [
       "<!DOCTYPE html>\n",
       "<html><head>\n",
       "<meta content=\"text/html; charset=utf-8\" http-equiv=\"Content-Type\"/>\n",
       "<meta content=\"width=device-width, initial-scale=1.0\" name=\"viewport\"/>\n",
       "\n",
       "<!-- Juery Latest Version 07/16/2014 -->\n",
       "<link href=\"/resources/jquery-ui-1.11.0/jquery-ui.min.css\" rel=\"Stylesheet\" type=\"text/css\"/>\n",
       "<script src=\"/resources/js/jquery-1.11.1.min.js\" type=\"text/javascript\"></script>\n",
       "<script src=\"/resources/jquery-ui-1.11.0/jquery-ui.min.js\" type=\"text/javascript\"></script>\n",
       "<!-- Twitter BootStrap CSS framework -->\n",
       "<link href=\"/resources/bootstrap-3.2.0-dist/css/bootstrap.min.css\" media=\"all\" rel=\"Stylesheet\" type=\"text/css\"/>\n",
       "<link href=\"/resources/bootstrap-3.2.0-dist/css/bootstrap-theme.min.css\" media=\"all\" rel=\"Stylesheet\" type=\"text/css\"/>\n",
       "<script src=\"/resources/bootstrap-3.2.0-dist/js/bootstrap.min.js\" type=\"text/javascript\"></script>\n",
       "<!-- Nueva custom css -->\n",
       "<link href=\"/resources/css/nueva.css\" rel=\"Stylesheet\" type=\"text/css\"/>\n",
       "</head>\n",
       "<body>\n",
       "<div class=\"container\"><div class=\"panel panel-primary\" style=\"margin:80px auto; width:450px;\"><div class=\"panel-heading\" style=\"background-color:rgb(0, 130, 187);background-image:none;\">\n",
       "<img alt=\"The Nueva School\" height=\"42\" src=\"/orgs/nueva/images/short_logo.png\" style=\"border: none; margin-right:20px;\" width=\"80\"/><span style=\"font-size:28px; font-family:times new roman;\">Community</span></div>\n",
       "    <div class=\"panel-body\"><form action=\"signin.php\" class=\"form-signin\" method=\"post\" role=\"form\">\n",
       "        <h2 class=\"form-signin-heading\">Please sign in</h2><input autofocus=\"\" class=\"form-control\" name=\"signin_acct\" placeholder=\"Email Address/User Name\" required=\"\" type=\"text\"/>\n",
       "        <input class=\"form-control\" name=\"signin_pw\" placeholder=\"Password\" required=\"\" type=\"password\"/>\n",
       "        <input class=\"newsubmit\" name=\"signin\" type=\"hidden\" value=\"Sign In\"/>\n",
       "        <button class=\"btn btn-large btn-primary\" type=\"submit\">Sign in</button>\n",
       "        <button class=\"btn-link\" id=\"forgotpassword\" type=\"button\">Forgot Password?</button>\n",
       "      </form><div id=\"forgotpasswordDialogform\" title=\"Forgot password\">\n",
       "  <p class=\"validateTips\">* All form fields are required.</p>\n",
       "\n",
       "  <form>\n",
       "    <fieldset>\n",
       "      <label for=\"uname\">User Name</label>\n",
       "      <input class=\"ui-widget-content ui-corner-all\" id=\"uname\" name=\"uname\" placeholder=\"User Name\" style=\"width: 95%;padding: .4em;\" type=\"text\" value=\"\"/>\n",
       "      <br/><br/>\n",
       "\t   <!-- Allow form submission with keyboard without duplicating the dialog button -->\n",
       "      <input style=\"position:absolute; top:-1000px\" tabindex=\"-1\" type=\"submit\"/>\n",
       "    </fieldset>\n",
       "  </form>\n",
       "</div>\n",
       "\t\t\t\n",
       "<script type=\"text/javascript\">\n",
       "$(function() {\n",
       "\tvar forgotpassworddialog, form;\n",
       " \tvar uname = $(\"#uname\");\n",
       "\tvar tips = $( \".validateTips\" );\n",
       "\t\t\n",
       "\tforgotpassworddialog = $( \"#forgotpasswordDialogform\" ).dialog({\n",
       "      autoOpen: false,\n",
       "      height: 300,\n",
       "      width: 400,\n",
       "      modal: true,\n",
       "\tbuttons: [{\n",
       "        text: \"Reset Password\",\n",
       "        \"id\": \"btnReset\",\n",
       "        click: function () {\n",
       "            resetPassword();\n",
       "        },\n",
       "\n",
       "    }, {\n",
       "        text: \"Cancel\",\n",
       "\t\t\"id\": \"btnCancel\",\n",
       "        click: function () {\n",
       "            forgotpassworddialog.dialog( \"close\" );\n",
       "        },\n",
       "    }],\n",
       "      close: function() {\n",
       "\t\ttips.text(\"* All form fields are required.\");\n",
       "        form[ 0 ].reset();\n",
       "        uname.removeClass( \"ui-state-error\" );\n",
       "\t\tuname.removeAttr( \"disabled\");\n",
       "\t\t$(\"#btnReset\").removeAttr(\"disabled\");\n",
       "\t\t$(\"#btnCancel\").text(\"Cancel\");\n",
       "      }\n",
       "    });\n",
       "\n",
       "    form = forgotpassworddialog.find(\"form\").on( \"submit\", function( event ) {\n",
       "      event.preventDefault();\n",
       "      resetPassword();\n",
       "    });\n",
       "\n",
       "\tfunction updateTips( t ) {\n",
       "      tips.text( t )\n",
       "        .addClass( \"ui-state-highlight\" );\n",
       "      setTimeout(function() {\n",
       "        tips.removeClass( \"ui-state-highlight\", 1500 );\n",
       "      }, 500 );\n",
       "    }\n",
       "\n",
       "\n",
       "\tfunction checkLength( o, n, min) {\n",
       "\t\tvar isValid = false;\n",
       "\t      if ( o.val().length < min ) {\n",
       "\t        o.addClass( \"ui-state-error\" );\n",
       "\t        updateTips( \"Length of \" + n + \" must be greater than \" + min + \".\" );\n",
       "\t        return false;\n",
       "\t      } else {\n",
       "\t        return true;\n",
       "\t      }\n",
       "    }\n",
       "\t\t\n",
       "\tfunction resetPassword() {\n",
       "      var valid = true;\n",
       "      uname.removeClass( \"ui-state-error\" );\n",
       "      valid = valid && checkLength( uname, \"User name\", 3);\n",
       "\t  var username = uname.val();\n",
       "   \t  var results = \"\";\n",
       "\t\t\n",
       "      if ( valid ) {\n",
       "\t\t\t//ajax call to perform reset password\n",
       "\t\t\t//let's save the result to a string.\n",
       "\t\t\t\t$.getJSON('/admin/restful/password_reset.class.php?username=' + username, function(data){\n",
       "\t                $.each(data, function(index, element){\n",
       "    \t\t\t\t\tresults += element.message;\n",
       "\t                });\n",
       "            \t}).done(function(){\n",
       "    \t\t\t\tupdateTips(results);\n",
       "\n",
       "    \t\t\t});\n",
       "\t\t\n",
       "\t\t\t//updateTips( \"Please check your email, a password reset link has been emailed to you!\" );\n",
       "\t\t\n",
       "\t\t\tuname.prop( \"disabled\", true );\n",
       "\t\t\t$(\"#btnReset\").prop(\"disabled\", true );\n",
       "\t\t\t$(\"#btnCancel\").text(\"Close\");\n",
       "      }\n",
       "      return valid;\n",
       "    }\n",
       "\n",
       "\t\t\n",
       "\t\t$(\"#forgotpassword\").button().on( \"click\", function() {\n",
       "\t\t\tforgotpassworddialog.dialog(\"open\");\n",
       "\t\t\treturn false;\n",
       "\t\t});\n",
       "\n",
       "\n",
       "\n",
       "});\n",
       "</script><hr/><p class=\"text-muted text-center\"><small>©2014 The Nueva School (Lower and Middle School)      6565 Skyline Boulevard, Hillsborough, CA 94010\n",
       "   (650)350-4600<br/>\n",
       "The Nueva School (Upper School)    131 E. 28th Ave., San Mateo, CA 94403    (650)235-7100</small></p></div><small> <!-- Panel body --> </small></div><!-- panel --></div></body></html>"
      ]
     },
     "execution_count": 16,
     "metadata": {},
     "output_type": "execute_result"
    }
   ],
   "source": [
    "soup"
   ]
  },
  {
   "cell_type": "code",
   "execution_count": null,
   "metadata": {},
   "outputs": [],
   "source": []
  }
 ],
 "metadata": {
  "kernelspec": {
   "display_name": "Python 3",
   "language": "python",
   "name": "python3"
  },
  "language_info": {
   "codemirror_mode": {
    "name": "ipython",
    "version": 3
   },
   "file_extension": ".py",
   "mimetype": "text/x-python",
   "name": "python",
   "nbconvert_exporter": "python",
   "pygments_lexer": "ipython3",
   "version": "3.5.2"
  }
 },
 "nbformat": 4,
 "nbformat_minor": 2
}
